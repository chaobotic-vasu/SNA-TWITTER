{
  "nbformat": 4,
  "nbformat_minor": 0,
  "metadata": {
    "colab": {
      "name": "sna-1-code.ipynb",
      "provenance": [],
      "collapsed_sections": [
        "LNe2xR_OVo6c"
      ]
    },
    "kernelspec": {
      "name": "python3",
      "display_name": "Python 3"
    },
    "language_info": {
      "name": "python"
    }
  },
  "cells": [
    {
      "cell_type": "code",
      "metadata": {
        "colab": {
          "base_uri": "https://localhost:8080/"
        },
        "id": "i6Jpg_LpxTMG",
        "outputId": "02b5240c-32a5-4c45-e8ea-2dcadc478bc0"
      },
      "source": [
        "pip install tweepy"
      ],
      "execution_count": 1,
      "outputs": [
        {
          "output_type": "stream",
          "name": "stdout",
          "text": [
            "Requirement already satisfied: tweepy in /usr/local/lib/python3.7/dist-packages (3.10.0)\n",
            "Requirement already satisfied: requests-oauthlib>=0.7.0 in /usr/local/lib/python3.7/dist-packages (from tweepy) (1.3.0)\n",
            "Requirement already satisfied: six>=1.10.0 in /usr/local/lib/python3.7/dist-packages (from tweepy) (1.15.0)\n",
            "Requirement already satisfied: requests[socks]>=2.11.1 in /usr/local/lib/python3.7/dist-packages (from tweepy) (2.23.0)\n",
            "Requirement already satisfied: oauthlib>=3.0.0 in /usr/local/lib/python3.7/dist-packages (from requests-oauthlib>=0.7.0->tweepy) (3.1.1)\n",
            "Requirement already satisfied: certifi>=2017.4.17 in /usr/local/lib/python3.7/dist-packages (from requests[socks]>=2.11.1->tweepy) (2021.10.8)\n",
            "Requirement already satisfied: urllib3!=1.25.0,!=1.25.1,<1.26,>=1.21.1 in /usr/local/lib/python3.7/dist-packages (from requests[socks]>=2.11.1->tweepy) (1.24.3)\n",
            "Requirement already satisfied: chardet<4,>=3.0.2 in /usr/local/lib/python3.7/dist-packages (from requests[socks]>=2.11.1->tweepy) (3.0.4)\n",
            "Requirement already satisfied: idna<3,>=2.5 in /usr/local/lib/python3.7/dist-packages (from requests[socks]>=2.11.1->tweepy) (2.10)\n",
            "Requirement already satisfied: PySocks!=1.5.7,>=1.5.6 in /usr/local/lib/python3.7/dist-packages (from requests[socks]>=2.11.1->tweepy) (1.7.1)\n"
          ]
        }
      ]
    },
    {
      "cell_type": "markdown",
      "metadata": {
        "id": "Nh9QinSnxi3i"
      },
      "source": [
        "#Import all libraries and modules needed"
      ]
    },
    {
      "cell_type": "code",
      "metadata": {
        "id": "uuQx_WLTxmv-"
      },
      "source": [
        "# for extracting data \n",
        "import tweepy\n",
        "import time"
      ],
      "execution_count": 23,
      "outputs": []
    },
    {
      "cell_type": "code",
      "metadata": {
        "id": "4d7Z5X2oyOAh"
      },
      "source": [
        "# general purpose\n",
        "import pandas as pd\n",
        "import csv\n",
        "import itertools\n",
        "from collections import Counter\n",
        "import numpy as np"
      ],
      "execution_count": 99,
      "outputs": []
    },
    {
      "cell_type": "code",
      "metadata": {
        "id": "zdFMmq6pyOER"
      },
      "source": [
        "#network and visualization purpose\n",
        "import networkx as nx\n",
        "import matplotlib.pyplot as plt\n",
        "from networkx.algorithms import community\n"
      ],
      "execution_count": 25,
      "outputs": []
    },
    {
      "cell_type": "markdown",
      "metadata": {
        "id": "0rzXxO59yVYR"
      },
      "source": [
        "# Scraping Twitter Data"
      ]
    },
    {
      "cell_type": "markdown",
      "metadata": {
        "id": "0cYrCP7FyeGn"
      },
      "source": [
        "## Getting API with Developer Access tokens\n"
      ]
    },
    {
      "cell_type": "code",
      "metadata": {
        "id": "KN5vXlagxYeU"
      },
      "source": [
        "\n",
        "# Enter your own credentials obtained from your developer account\n",
        "ACCESS_TOKEN = \"1449075799798157313-iyEb4jYTbxhZDFetW6ftsEOCVTm1IB\"\n",
        "access_token_secret = \"drmcBsnG85OypPmEI0CwSaANqM8UP6Zc131CxMbvYB4hi\"\n",
        "\n",
        "api_key = \"tBz9nb1auii6jpniGMmgN2yqO\"\n",
        "api_key_secret = \"olMh38421tcVuU61wPlkPkObl3N8Sn6v2M3Ah5WplOQvFQcPH7\"\n",
        "\n",
        "auth = tweepy.OAuthHandler(consumer_key = api_key, consumer_secret = api_key_secret)\n",
        "auth.set_access_token(ACCESS_TOKEN, access_token_secret)\n",
        "api = tweepy.API(auth, wait_on_rate_limit=True)"
      ],
      "execution_count": 7,
      "outputs": []
    },
    {
      "cell_type": "markdown",
      "metadata": {
        "id": "pu494qrLyvG_"
      },
      "source": [
        "## To perform Extraction"
      ]
    },
    {
      "cell_type": "code",
      "metadata": {
        "id": "CcMYBX7NxhKm"
      },
      "source": [
        "# Scraping Data of Tweets using Hashtags. And save them in a CSV file.\n",
        "\n",
        "# reference : https://www.geeksforgeeks.org/extracting-tweets-containing-a-particular-hashtag-using-python/?ref=gcse\n",
        "\n",
        "\n",
        "def printtweetdata(n, ith_tweet):\n",
        "    print()\n",
        "    print(f\"Tweet {n}:\")\n",
        "    print(f\"Username:{ith_tweet[0]}\")\n",
        "    print(f\"Description:{ith_tweet[1]}\")\n",
        "    print(f\"Location:{ith_tweet[2]}\")\n",
        "    print(f\"Following Count:{ith_tweet[3]}\")\n",
        "    print(f\"Follower Count:{ith_tweet[4]}\")\n",
        "    print(f\"Total Tweets:{ith_tweet[5]}\")\n",
        "    print(f\"Retweet Count:{ith_tweet[6]}\")\n",
        "    print(f\"Tweet Text:{ith_tweet[7]}\")\n",
        "    print(f\"Hashtags Used:{ith_tweet[8]}\")\n",
        "\n",
        "\n",
        "# function to perform data extraction\n",
        "def scrape(words, date_since, date_until, numtweet, api):\n",
        "    \n",
        "    # Creating DataFrame using pandas\n",
        "    db = pd.DataFrame(columns=['username', 'description', \n",
        "                               'location', 'following',\n",
        "                            'followers', 'totaltweets', \n",
        "                            'retweetcount', 'text', \n",
        "                            'hashtags']) # 'retweeters'])\n",
        "    \n",
        "    # We are using .Cursor() to search through twitter for the required tweets.\n",
        "    # The number of tweets can be restricted using .items(number of tweets)\n",
        "    tweets = tweepy.Cursor(api.search, q=words, lang=\"en\",\n",
        "                        since=date_since, tweet_mode='extended').items(numtweet)\n",
        "    print(tweets)\n",
        "    # .Cursor() returns an iterable object. Each item in\n",
        "    # the iterator has various attributes that you can access to\n",
        "    # get information about each tweet\n",
        "    list_tweets = [tweet for tweet in tweets]\n",
        "    \n",
        "    # Counter to maintain Tweet Count\n",
        "    i = 1\n",
        "    \n",
        "    # we will iterate over each tweet in the list for extracting information about each tweet\n",
        "    for tweet in list_tweets:\n",
        "        tweet_id = tweet.user.id\n",
        "        username = tweet.user.id_str\n",
        "        description = tweet.user.description\n",
        "        location = tweet.user.location\n",
        "        following = tweet.user.friends_count\n",
        "        followers = tweet.user.followers_count\n",
        "        totaltweets = tweet.user.statuses_count\n",
        "        retweetcount = tweet.retweet_count\n",
        "        hashtags = tweet.entities['hashtags']\n",
        "        # retweeters_list = retweet_users_from_tweet_id(tweet_id, api) #for every tweetid, go fetch retweeter's screen name.\n",
        "         \n",
        "        # Retweets can be distinguished by a retweeted_status attribute,\n",
        "        # in case it is an invalid reference, except block will be executed\n",
        "        try:\n",
        "            text = tweet.retweeted_status.full_text\n",
        "        except AttributeError:\n",
        "            text = tweet.full_text\n",
        "        hashtext = list()\n",
        "        for j in range(0, len(hashtags)):\n",
        "            hashtext.append(hashtags[j]['text'])\n",
        "        \n",
        "        # Here we are appending all the extracted information in the DataFrame\n",
        "        ith_tweet = [username, description, location, following,\n",
        "                    followers, totaltweets, retweetcount, text, hashtext] #, retweeters_list]\n",
        "        db.loc[len(db)] = ith_tweet\n",
        "        \n",
        "        # Function call to print tweet data on screen\n",
        "        # printtweetdata(i, ith_tweet)\n",
        "        # i = i+1\n",
        "    filename = 'Scraped_tweets.csv'\n",
        "    \n",
        "    # we will save our database as a CSV file.\n",
        "    db.to_csv(filename)\n",
        "    return list_tweets\n",
        "    \n",
        "\n",
        "if __name__ == '__main__':\n",
        "       \n",
        "    # Enter Hashtag and initial date\n",
        "    # print(\"Enter Twitter HashTag to search for\")\n",
        "    # words = input()\n",
        "    # print(\"Enter Date since The Tweets are required in yyyy-mm-dd\")\n",
        "    # date_since = input()\n",
        "    \n",
        "    date_since = '2020-04-10'\n",
        "    date_until = '2020-06-30'\n",
        "    words = '#dalitlivesmatter'\n",
        "\n",
        "    print(\"Twitter HashTag to searched for : \", words)\n",
        "    # print(\"Date since The Tweets taken in yyyy-mm-dd : \", date_since)\n",
        "    # print(\"Date until The Tweets taken in yyyy-mm-dd : \", date_until)\n",
        "\n",
        "    # number of tweets you want to extract in one run\n",
        "    numtweet = 200\n",
        "    list_tweets = scrape(words, date_since, date_until, numtweet, api)\n",
        "    print('Scraping has completed!')\n",
        "  "
      ],
      "execution_count": null,
      "outputs": []
    },
    {
      "cell_type": "code",
      "metadata": {
        "id": "MCGXze4zR2uf"
      },
      "source": [
        "# data = pd.read_csv('Scraped_tweets.csv') "
      ],
      "execution_count": null,
      "outputs": []
    },
    {
      "cell_type": "markdown",
      "metadata": {
        "id": "D2PFw8RfIyI0"
      },
      "source": [
        "### Scraping Retweeters List "
      ]
    },
    {
      "cell_type": "markdown",
      "metadata": {
        "id": "FPxFHvzq-YMd"
      },
      "source": [
        "\n",
        "After this, the retweeters will be retrieved per every Tweet Id from the List of Tweets. As more retweeters are found for every tweet id, the **retweets information** will be saved in another list, its counter (retweet count) will be maintained. At last, this information will be added in the main Data frame file created from Scraped File."
      ]
    },
    {
      "cell_type": "code",
      "metadata": {
        "id": "c2K4BVLI-Ym9"
      },
      "source": [
        "# to find retweeters for each tweet id scraped \n",
        "\n",
        "\n",
        "def retweet_auth(id, api):\n",
        "    \"\"\"this functions extracts retweeters information and saves them in a list\"\"\"\n",
        "    user_ids = []\n",
        "    for page in tweepy.Cursor(api.retweeters, id = id, count = 200).pages():\n",
        "        user_ids.extend(page)\n",
        "        time.sleep(10)\n",
        "\n",
        "    return user_ids\n",
        "\n",
        "all_retweets = []\n",
        "cnt = 0\n",
        "\n",
        "for i in list_tweets:\n",
        "    all_retweets.append(retweet_auth(i.id,api))\n",
        "    cnt = cnt+1\n",
        "    print(cnt)\n",
        "    tweetFetched = api.get_status(i.id)\n",
        "    print(tweetFetched.retweet_count)\n",
        "    print(i.id, retweet_auth(i.id,api)) \n",
        "    #prints count, tweetfetched-retweet-count then tweeter id, then user id of retweeters\n",
        "    rt = pd.DataFrame(columns= ['allretweets', 'fetchedtweets', 'tweetid'])\n",
        "    rt['allretweets'] = all_retweets\n",
        "    rt['fetchedtweets'] = tweetFetched\n",
        "    rt['tweetid'] = i.id \n"
      ],
      "execution_count": null,
      "outputs": []
    },
    {
      "cell_type": "code",
      "metadata": {
        "id": "JwhtV3s6Q1ze"
      },
      "source": [
        "\"\"\"\n",
        "# Saving Retweets for further use in case the program crashes wrong \n",
        "# save in csv file just because it is slow and will be harder to retrieve later, \n",
        "# especially if itcrosses the maximum limit \n",
        "with open('rt', 'w') as f:\n",
        "      \n",
        "    # using csv.writer method from CSV package\n",
        "    write = csv.writer(f)\n",
        "      \n",
        "    write.writerow('all_retweets')\n",
        "    write.writerows(all_retweets)\n",
        "\"\"\""
      ],
      "execution_count": null,
      "outputs": []
    },
    {
      "cell_type": "markdown",
      "metadata": {
        "id": "D0VjfTgL7R-D"
      },
      "source": [
        "# Reading the CSV file created for Scraped Data. "
      ]
    },
    {
      "cell_type": "code",
      "metadata": {
        "id": "We7_0yK5RioT"
      },
      "source": [
        "# READ CSV FILE AND ADD RETWEETERS INFORMATION INTO CSV\n",
        "\n",
        "data = pd.read_csv('Scraped_tweets.csv') \n",
        "data = data.drop('Unnamed: 0', axis = 1) #drop first column\n",
        "data['retweeters'] = all_retweets\n",
        "data.head()"
      ],
      "execution_count": null,
      "outputs": []
    },
    {
      "cell_type": "code",
      "metadata": {
        "colab": {
          "base_uri": "https://localhost:8080/",
          "height": 204
        },
        "id": "R9EGCqcX-T7Y",
        "outputId": "607c22c2-9000-415c-e1b0-2c819c9faead"
      },
      "source": [
        "#IF Upload File locally in Colab\n",
        "\n",
        "data = pd.read_csv('Scraped_tweets.csv') \n",
        "data = data.drop('Unnamed: 0', axis = 1) #drop first column\n",
        "data.head()"
      ],
      "execution_count": 32,
      "outputs": [
        {
          "output_type": "execute_result",
          "data": {
            "text/html": [
              "<div>\n",
              "<style scoped>\n",
              "    .dataframe tbody tr th:only-of-type {\n",
              "        vertical-align: middle;\n",
              "    }\n",
              "\n",
              "    .dataframe tbody tr th {\n",
              "        vertical-align: top;\n",
              "    }\n",
              "\n",
              "    .dataframe thead th {\n",
              "        text-align: right;\n",
              "    }\n",
              "</style>\n",
              "<table border=\"1\" class=\"dataframe\">\n",
              "  <thead>\n",
              "    <tr style=\"text-align: right;\">\n",
              "      <th></th>\n",
              "      <th>username</th>\n",
              "      <th>description</th>\n",
              "      <th>location</th>\n",
              "      <th>following</th>\n",
              "      <th>followers</th>\n",
              "      <th>totaltweets</th>\n",
              "      <th>retweetcount</th>\n",
              "      <th>text</th>\n",
              "      <th>hashtags</th>\n",
              "    </tr>\n",
              "  </thead>\n",
              "  <tbody>\n",
              "    <tr>\n",
              "      <th>0</th>\n",
              "      <td>1097144737109340161</td>\n",
              "      <td>Freelancer reporter / R.T.I 'Activist / Social...</td>\n",
              "      <td>Maharashtra, India</td>\n",
              "      <td>1037</td>\n",
              "      <td>344</td>\n",
              "      <td>10812</td>\n",
              "      <td>2</td>\n",
              "      <td>Dalit youth dies in TN’s Kanyakumari, kin alle...</td>\n",
              "      <td>['DalitLivesMatter']</td>\n",
              "    </tr>\n",
              "    <tr>\n",
              "      <th>1</th>\n",
              "      <td>1287027988962275328</td>\n",
              "      <td>NaN</td>\n",
              "      <td>NaN</td>\n",
              "      <td>1106</td>\n",
              "      <td>654</td>\n",
              "      <td>10192</td>\n",
              "      <td>2</td>\n",
              "      <td>If u keep silent now, then it would be next in...</td>\n",
              "      <td>['DalitLivesMatter']</td>\n",
              "    </tr>\n",
              "    <tr>\n",
              "      <th>2</th>\n",
              "      <td>238889026</td>\n",
              "      <td>Political Party- BSP || Religion- Buddhism</td>\n",
              "      <td>NaN</td>\n",
              "      <td>1203</td>\n",
              "      <td>847</td>\n",
              "      <td>9279</td>\n",
              "      <td>2</td>\n",
              "      <td>Dalit youth dies in TN’s Kanyakumari, kin alle...</td>\n",
              "      <td>['DalitLivesMatter']</td>\n",
              "    </tr>\n",
              "    <tr>\n",
              "      <th>3</th>\n",
              "      <td>160836619</td>\n",
              "      <td>An Ardent ..AGGRESSIVE #THALA #DADA &amp; #Yuva Fa...</td>\n",
              "      <td>Bengaluru, India</td>\n",
              "      <td>1408</td>\n",
              "      <td>1806</td>\n",
              "      <td>121727</td>\n",
              "      <td>2</td>\n",
              "      <td>If u keep silent now, then it would be next in...</td>\n",
              "      <td>['DalitLivesMatter']</td>\n",
              "    </tr>\n",
              "    <tr>\n",
              "      <th>4</th>\n",
              "      <td>245474233</td>\n",
              "      <td>| Thinker | Analyst | Believes in liberty, equ...</td>\n",
              "      <td>🇮🇳</td>\n",
              "      <td>800</td>\n",
              "      <td>9714</td>\n",
              "      <td>61636</td>\n",
              "      <td>2</td>\n",
              "      <td>Dalit youth dies in TN’s Kanyakumari, kin alle...</td>\n",
              "      <td>['DalitLivesMatter']</td>\n",
              "    </tr>\n",
              "  </tbody>\n",
              "</table>\n",
              "</div>"
            ],
            "text/plain": [
              "              username  ...              hashtags\n",
              "0  1097144737109340161  ...  ['DalitLivesMatter']\n",
              "1  1287027988962275328  ...  ['DalitLivesMatter']\n",
              "2            238889026  ...  ['DalitLivesMatter']\n",
              "3            160836619  ...  ['DalitLivesMatter']\n",
              "4            245474233  ...  ['DalitLivesMatter']\n",
              "\n",
              "[5 rows x 9 columns]"
            ]
          },
          "metadata": {},
          "execution_count": 32
        }
      ]
    },
    {
      "cell_type": "markdown",
      "metadata": {
        "id": "rC7FVGJMUHSl"
      },
      "source": [
        "# Exploratory Data Analysis"
      ]
    },
    {
      "cell_type": "code",
      "metadata": {
        "colab": {
          "base_uri": "https://localhost:8080/"
        },
        "id": "Bc3iWPooTc0T",
        "outputId": "423b6ff9-f9d3-4eab-e854-ff0ce51ae0b5"
      },
      "source": [
        "data.info()"
      ],
      "execution_count": 35,
      "outputs": [
        {
          "output_type": "stream",
          "name": "stdout",
          "text": [
            "<class 'pandas.core.frame.DataFrame'>\n",
            "RangeIndex: 200 entries, 0 to 199\n",
            "Data columns (total 9 columns):\n",
            " #   Column        Non-Null Count  Dtype \n",
            "---  ------        --------------  ----- \n",
            " 0   username      200 non-null    int64 \n",
            " 1   description   156 non-null    object\n",
            " 2   location      126 non-null    object\n",
            " 3   following     200 non-null    int64 \n",
            " 4   followers     200 non-null    int64 \n",
            " 5   totaltweets   200 non-null    int64 \n",
            " 6   retweetcount  200 non-null    int64 \n",
            " 7   text          200 non-null    object\n",
            " 8   hashtags      200 non-null    object\n",
            "dtypes: int64(5), object(4)\n",
            "memory usage: 14.2+ KB\n"
          ]
        }
      ]
    },
    {
      "cell_type": "code",
      "metadata": {
        "colab": {
          "base_uri": "https://localhost:8080/",
          "height": 296
        },
        "id": "t8kUVMN7Rmnw",
        "outputId": "952c523f-225a-446f-c875-491ba20e6606"
      },
      "source": [
        "data.describe()"
      ],
      "execution_count": 36,
      "outputs": [
        {
          "output_type": "execute_result",
          "data": {
            "text/html": [
              "<div>\n",
              "<style scoped>\n",
              "    .dataframe tbody tr th:only-of-type {\n",
              "        vertical-align: middle;\n",
              "    }\n",
              "\n",
              "    .dataframe tbody tr th {\n",
              "        vertical-align: top;\n",
              "    }\n",
              "\n",
              "    .dataframe thead th {\n",
              "        text-align: right;\n",
              "    }\n",
              "</style>\n",
              "<table border=\"1\" class=\"dataframe\">\n",
              "  <thead>\n",
              "    <tr style=\"text-align: right;\">\n",
              "      <th></th>\n",
              "      <th>username</th>\n",
              "      <th>following</th>\n",
              "      <th>followers</th>\n",
              "      <th>totaltweets</th>\n",
              "      <th>retweetcount</th>\n",
              "    </tr>\n",
              "  </thead>\n",
              "  <tbody>\n",
              "    <tr>\n",
              "      <th>count</th>\n",
              "      <td>2.000000e+02</td>\n",
              "      <td>200.000000</td>\n",
              "      <td>200.00000</td>\n",
              "      <td>200.000000</td>\n",
              "      <td>200.000000</td>\n",
              "    </tr>\n",
              "    <tr>\n",
              "      <th>mean</th>\n",
              "      <td>7.838265e+17</td>\n",
              "      <td>1573.030000</td>\n",
              "      <td>3239.66500</td>\n",
              "      <td>34172.090000</td>\n",
              "      <td>91.200000</td>\n",
              "    </tr>\n",
              "    <tr>\n",
              "      <th>std</th>\n",
              "      <td>5.915307e+17</td>\n",
              "      <td>5331.630284</td>\n",
              "      <td>12322.89328</td>\n",
              "      <td>81187.009416</td>\n",
              "      <td>110.222935</td>\n",
              "    </tr>\n",
              "    <tr>\n",
              "      <th>min</th>\n",
              "      <td>1.657958e+07</td>\n",
              "      <td>0.000000</td>\n",
              "      <td>2.00000</td>\n",
              "      <td>28.000000</td>\n",
              "      <td>0.000000</td>\n",
              "    </tr>\n",
              "    <tr>\n",
              "      <th>25%</th>\n",
              "      <td>2.810946e+09</td>\n",
              "      <td>204.000000</td>\n",
              "      <td>83.00000</td>\n",
              "      <td>3360.750000</td>\n",
              "      <td>83.000000</td>\n",
              "    </tr>\n",
              "    <tr>\n",
              "      <th>50%</th>\n",
              "      <td>1.093104e+18</td>\n",
              "      <td>499.000000</td>\n",
              "      <td>293.00000</td>\n",
              "      <td>9418.500000</td>\n",
              "      <td>83.000000</td>\n",
              "    </tr>\n",
              "    <tr>\n",
              "      <th>75%</th>\n",
              "      <td>1.280690e+18</td>\n",
              "      <td>1272.250000</td>\n",
              "      <td>838.75000</td>\n",
              "      <td>25919.250000</td>\n",
              "      <td>114.000000</td>\n",
              "    </tr>\n",
              "    <tr>\n",
              "      <th>max</th>\n",
              "      <td>1.454507e+18</td>\n",
              "      <td>70400.000000</td>\n",
              "      <td>115381.00000</td>\n",
              "      <td>720122.000000</td>\n",
              "      <td>838.000000</td>\n",
              "    </tr>\n",
              "  </tbody>\n",
              "</table>\n",
              "</div>"
            ],
            "text/plain": [
              "           username     following     followers    totaltweets  retweetcount\n",
              "count  2.000000e+02    200.000000     200.00000     200.000000    200.000000\n",
              "mean   7.838265e+17   1573.030000    3239.66500   34172.090000     91.200000\n",
              "std    5.915307e+17   5331.630284   12322.89328   81187.009416    110.222935\n",
              "min    1.657958e+07      0.000000       2.00000      28.000000      0.000000\n",
              "25%    2.810946e+09    204.000000      83.00000    3360.750000     83.000000\n",
              "50%    1.093104e+18    499.000000     293.00000    9418.500000     83.000000\n",
              "75%    1.280690e+18   1272.250000     838.75000   25919.250000    114.000000\n",
              "max    1.454507e+18  70400.000000  115381.00000  720122.000000    838.000000"
            ]
          },
          "metadata": {},
          "execution_count": 36
        }
      ]
    },
    {
      "cell_type": "code",
      "metadata": {
        "colab": {
          "base_uri": "https://localhost:8080/"
        },
        "id": "0kzE1Vc-Tq4u",
        "outputId": "a2859051-e40c-4b9f-80d3-c3e5c4683b2d"
      },
      "source": [
        "# Small EDA\n",
        "\n",
        "print(\"Uniques Usernames(id) texts from file are : \", len(data['username'].unique()))\n",
        "print(\"Uniques Tweet texts from file are : \",  len(data['text'].unique()))\n",
        "print(\"Uniques Hashtag texts from file are : \", len(data['hashtags'].unique()))"
      ],
      "execution_count": 41,
      "outputs": [
        {
          "output_type": "stream",
          "name": "stdout",
          "text": [
            "Uniques Usernames(id) texts from file are :  197\n",
            "Uniques Tweet texts from file are :  36\n",
            "Uniques Hashtag texts from file are :  26\n"
          ]
        }
      ]
    },
    {
      "cell_type": "code",
      "metadata": {
        "colab": {
          "base_uri": "https://localhost:8080/"
        },
        "id": "ZYkK4Ae-VH8y",
        "outputId": "0c020a02-14c9-4006-f5f1-69b1dbaf3d11"
      },
      "source": [
        "print(\"Uniques Hashtag set are : \", data['hashtags'].unique())\n",
        "\n",
        "# Getting a list of Tags for Network Experimentations\n",
        "\n",
        "# tags = []\n",
        "# for i in [data['hashtags'].unique()]: \n",
        "#   for j in i:\n",
        "#     tags.append(j)\n",
        "\n",
        "# tags\n",
        "# len(tags)"
      ],
      "execution_count": 44,
      "outputs": [
        {
          "output_type": "stream",
          "name": "stdout",
          "text": [
            "Uniques Hashtag set are :  [\"['DalitLivesMatter']\" \"['muslim', 'DalitLivesMatter']\"\n",
            " \"['crushthecaste', 'DalitLivesMatter']\" \"['Jharkhand']\"\n",
            " \"['Assam', 'NRC', 'JaiBhim', 'DalitLivesMatter']\" '[]'\n",
            " \"['DalitLivesMatter', 'Dalit']\" \"['DeepaPMohanan', 'DalitLivesMatter']\"\n",
            " \"['AFieldOfFlowers']\"\n",
            " \"['India', 'RSS', 'Dalit', 'Fascist', 'DalitLivesMatter', 'Dalits', 'Hindu', 'HinduRashtra', 'ModiHoshMeinAao', 'ModiMadeDisaster', 'Pakistan']\"\n",
            " \"['Sikhs', 'DalitLivesMatter', 'Punjab', 'harijan', 'Dalit', 'schedulecaste']\"\n",
            " \"['UttarPradesh']\"\n",
            " \"['India', 'minorityrights', 'asia', 'peaceforasia', 'Karnataka', 'violence', 'rightwing', 'muslims', 'southasia', 'lynching', 'humanrights', 'DalitLivesMatter', 'Hindutva']\"\n",
            " \"['MuslimLivesMatter', 'DalitLivesMatter', 'TribalLivesMatter']\"\n",
            " \"['JusticeForDeepaPMohanan', 'dalitlivesmatter']\" \"['deepamohanan']\"\n",
            " \"['deepamohanan', 'DalitLivesMatter', 'JaiBhim', 'stopcastediscrimination']\"\n",
            " \"['DeepaPMohanan', 'Dalitlivesmatter']\"\n",
            " \"['CasteDiscrimination', 'DalitLivesMatter']\" \"['No_Caste_bar_inKerala']\"\n",
            " \"['DalitLivesMatter', 'Dalit', 'DalitLivesMatterinAP']\"\n",
            " \"['blockbuser', 'JaiBhimOnPrime', 'JaibhimReview', 'JaiBheem', 'superhit', 'DalitLivesMatter', 'drbabasahebAmbejkar', 'Ambedkar']\"\n",
            " \"['Gujarat', 'DalitLivesMatter']\" \"['DeepaPMohanan']\"\n",
            " \"['DalitLivesMatter', 'stopracism', 'DeepaMohanan']\"\n",
            " \"['UttarPradesh', 'DalitLivesMatter']\"]\n"
          ]
        }
      ]
    },
    {
      "cell_type": "markdown",
      "metadata": {
        "id": "LNe2xR_OVo6c"
      },
      "source": [
        "# Arranging Data for Network"
      ]
    },
    {
      "cell_type": "code",
      "metadata": {
        "id": "VjteXsDhVvyb"
      },
      "source": [
        "# getting all retweeters details and adding it into file\n",
        "\n",
        "\"\"\"\n",
        "All unique users are read to be saved as nodes, \n",
        "and their relationships to other users are read into an Edges List.\n",
        "\n",
        "\"\"\"\n",
        "\n",
        "author = []\n",
        "for i in data['username']:\n",
        "    author.append(api.get_user(i).id)\n",
        "\n",
        "data['username'] = author\n",
        "all_authors = list(data['username'].unique())\n",
        "edge = []\n",
        "for i in range(len(data['username'])):\n",
        "    for j in data.iloc[i,-1]:\n",
        "        if(j in all_authors):\n",
        "            edge.append([data.iloc[i,1],j])"
      ],
      "execution_count": null,
      "outputs": []
    },
    {
      "cell_type": "code",
      "metadata": {
        "id": "A32aqUCQVwPR"
      },
      "source": [
        "# saving EDGE information in File\n",
        "\n",
        "data.to_csv('finaldata.csv')\n",
        "author_info = pd.DataFrame(columns = author)\n",
        "author_info.to_csv('all_authors.csv')\n",
        "edge_info = pd.DataFrame(columns = edge)\n",
        "edge_info.to_csv('edges.csv')"
      ],
      "execution_count": null,
      "outputs": []
    },
    {
      "cell_type": "markdown",
      "metadata": {
        "id": "R6kDp7VxVtcr"
      },
      "source": [
        "# Defining Network"
      ]
    },
    {
      "cell_type": "code",
      "metadata": {
        "id": "mtxm0TTjVwqm"
      },
      "source": [
        "# GET EDGE INFORMATION INTO A DATAFRAME\n",
        "graph_data = pd.DataFrame(edge, columns = ['src','tar'])\n",
        "graph_data.info()\n",
        "# MAKE A GRAPH \n",
        "g = nx.from_pandas_edgelist(graph_data, source='src', target='tar')\n",
        "nx.draw_spring(g)\n",
        "# Save the graph into a file for convenience\n",
        "nx.write_gexf(g, \"twitterGraph-date.gexf\")"
      ],
      "execution_count": null,
      "outputs": []
    },
    {
      "cell_type": "code",
      "metadata": {
        "colab": {
          "base_uri": "https://localhost:8080/",
          "height": 338
        },
        "id": "3TCErrHOVMRo",
        "outputId": "dd9a2072-a7f7-4fce-db22-5d200f4ceec0"
      },
      "source": [
        "# CAN BE RUN FROM HERE\n",
        "\n",
        "import networkx as nx # Import command in case program is implemented from here\n",
        "\n",
        "g = nx.read_gexf('/content/twitter_10Nov.gexf')\n",
        "nx.draw_spring(g)\n",
        "nx.info(g)"
      ],
      "execution_count": 55,
      "outputs": [
        {
          "output_type": "execute_result",
          "data": {
            "application/vnd.google.colaboratory.intrinsic+json": {
              "type": "string"
            },
            "text/plain": [
              "'Graph with 102 nodes and 92 edges'"
            ]
          },
          "metadata": {},
          "execution_count": 55
        },
        {
          "output_type": "display_data",
          "data": {
            "image/png": "[encoded data removed]",
            "text/plain": [
              "<Figure size 432x288 with 1 Axes>"
            ]
          },
          "metadata": {}
        }
      ]
    },
    {
      "cell_type": "code",
      "metadata": {
        "colab": {
          "base_uri": "https://localhost:8080/",
          "height": 319
        },
        "id": "0RxAct2pXZbO",
        "outputId": "0fbe5913-96bd-420a-9b3a-b1ea49060ad6"
      },
      "source": [
        "layout = nx.spring_layout(g)\n",
        "nx.draw(g, pos = layout, with_labels = False, node_size = 100)"
      ],
      "execution_count": 58,
      "outputs": [
        {
          "output_type": "display_data",
          "data": {
            "image/png": "[encoded data removed]",
            "text/plain": [
              "<Figure size 432x288 with 1 Axes>"
            ]
          },
          "metadata": {}
        }
      ]
    },
    {
      "cell_type": "markdown",
      "metadata": {
        "id": "YbendiwaYcqE"
      },
      "source": [
        "# Structural Measures"
      ]
    },
    {
      "cell_type": "code",
      "metadata": {
        "colab": {
          "base_uri": "https://localhost:8080/"
        },
        "id": "aT5wYMTsYrb4",
        "outputId": "61e65fc0-7cf3-40ad-b270-ff58284a4970"
      },
      "source": [
        "coeff = nx.clustering(g)\n",
        "print(\"[First] Five Coefficients of nodes are : \", \n",
        "      dict(itertools.islice(coeff.items(), 5)) )# Commented for space Saving\n",
        "avg_coeff = nx.average_clustering(g)\n",
        "print(\"\\nAverage Coefficient of network : \", avg_coeff)\n",
        "\n",
        "\"\"\"Degree distribution\"\"\"\n",
        "\n",
        "degree_sequence = sorted([d for n, d in g.degree()], reverse=True)\n",
        "dmax = max(degree_sequence)\n",
        "dmin = min(degree_sequence)\n",
        "print('dmax: ', dmax, '\\ndmin: ', dmin)"
      ],
      "execution_count": 74,
      "outputs": [
        {
          "output_type": "stream",
          "name": "stdout",
          "text": [
            "[First] Five Coefficients of nodes are :  {'160836619': 0, '1287027988962275328': 0, '245474233': 0, '1097144737109340161': 0, '238889026': 0}\n",
            "\n",
            "Average Coefficient of network :  0.0\n",
            "dmax:  80 \n",
            "dmin:  1\n"
          ]
        }
      ]
    },
    {
      "cell_type": "code",
      "metadata": {
        "id": "pwu8nt9BbNWA"
      },
      "source": [
        "#len(degree_sequence) \n",
        "#set(degree_sequence)"
      ],
      "execution_count": 84,
      "outputs": []
    },
    {
      "cell_type": "code",
      "metadata": {
        "colab": {
          "base_uri": "https://localhost:8080/"
        },
        "id": "vK3gne5vac-P",
        "outputId": "8ca77e49-5711-4c8a-a91f-2a679cd03ced"
      },
      "source": [
        "\"\"\"CONNECTED COMPONENTS\"\"\"\n",
        "\n",
        "n_CC = nx.number_connected_components(g) #all connected components\n",
        "print(\"Number of connected Components are: \", n_CC)\n",
        "\n",
        "largest_CC = max(nx.connected_components(g), key=len) #largest connected component\n",
        "print(\"largest connected Components are: \", largest_CC)\n",
        "\n",
        "CC = nx.connected_components(g) #Generates a sorted list of connected components, largest first.\n",
        "S = [g.subgraph(c).copy() for c in nx.connected_components(g)] #To create the induced subgraph of each component.\n",
        "\n",
        "# SCC = nx.strongly_connected_components(g) #only for directed\n",
        "# WCC= nx.weak_connected_components(g)  #only for directed\n",
        "## Source : NetworkX documentation"
      ],
      "execution_count": 79,
      "outputs": [
        {
          "output_type": "stream",
          "name": "stdout",
          "text": [
            "Number of connected Components are:  10\n",
            "largest connected Components are:  {'803164752', '1110230983595319296', '36367097', '1214254712943284225', '2971786675', '815449844', '1193156402170064896', '361546225', '4568287993', '971099892662726656', '1268081353645588483', '1152322252697817088', '3221665748', '1584491821', '1135048602433142784', '1444195910351613956', '1266049035640565761', '721710751849803776', '3799724953', '1065570487219060737', '354777690', '791891815607697408', '100176738', '1080148340489150464', '1393585343396515846', '969874080', '3097146398', '585347033', '274905437', '1001364202135552000', '1194698046094761984', '1556076211', '1418587000349741057', '1107208078489845760', '1930273044', '2552962878', '983982521514897413', '1036137712640815104', '1100777971646906368', '1433725358', '1130282947951489024', '256506416', '751568942', '1867376347', '1093024846299127808', '909777938333163520', '2337828977', '1297902323834839040', '1093183520544043009', '1112374922423291904', '1364192357218807819', '922414223879053312', '1033992455232749570', '947132815983833088', '2843955478', '3264740856', '242873592', '1100088313883443203', '17843247', '2949582630', '779320466880077825', '760389340891578372', '1384938867128606722', '1195925300904783874', '1443473916102524930', '960458074933813248', '922762519608827904', '1142900410081898496', '945525097867235328', '821161091375972352', '1218775875417755648', '1205565476757106689', '1448645431878045702', '751757663889874945', '1195909106248216577', '1249774697434083332', '1423152541605318659', '2267513971', '1134835781128708098', '1432089471646851078', '2997980402'}\n"
          ]
        }
      ]
    },
    {
      "cell_type": "code",
      "metadata": {
        "colab": {
          "base_uri": "https://localhost:8080/"
        },
        "id": "R7DDErIpY0EY",
        "outputId": "eabfd9b5-3935-47eb-ec85-f28857c04a53"
      },
      "source": [
        "\"\"\"Centrality measures\"\"\"\n",
        "\n",
        "closeness =  nx.closeness_centrality(g)\n",
        "betweenness =  nx.betweenness_centrality(g)\n",
        "eigen_centrality = nx.eigenvector_centrality(g)\n",
        "\n",
        "print('\\n Closeness: ', closeness, \n",
        "      '\\n Betweenness: ', betweenness,\n",
        "      '\\n Eigen_centrality: ', eigen_centrality)"
      ],
      "execution_count": 68,
      "outputs": [
        {
          "output_type": "stream",
          "name": "stdout",
          "text": [
            "\n",
            " Closeness:  {'160836619': 0.009900990099009901, '1287027988962275328': 0.009900990099009901, '245474233': 0.019801980198019802, '1097144737109340161': 0.013201320132013201, '238889026': 0.013201320132013201, '1289836784285896705': 0.009900990099009901, '141150560': 0.009900990099009901, '16579578': 0.009900990099009901, '1161175273867366401': 0.009900990099009901, '1344540212702007297': 0.019801980198019802, '2321958656': 0.013201320132013201, '1423159146325499905': 0.013201320132013201, '1579413182': 0.009900990099009901, '1448657427184828426': 0.009900990099009901, '1397573779241402370': 0.019801980198019802, '1406527272798941185': 0.013201320132013201, '1318843637761937410': 0.013201320132013201, '1347232843919880192': 0.009900990099009901, '2207822833': 0.009900990099009901, '56343974': 0.009900990099009901, '506556937': 0.009900990099009901, '971099892662726656': 0.7920792079207921, '945525097867235328': 0.3985304190796438, '1036137712640815104': 0.3985304190796438, '2267513971': 0.3985304190796438, '1443473916102524930': 0.3985304190796438, '1448645431878045702': 0.3985304190796438, '1384938867128606722': 0.3985304190796438, '1112374922423291904': 0.3985304190796438, '4568287993': 0.3985304190796438, '760389340891578372': 0.3985304190796438, '1107208078489845760': 0.3985304190796438, '2949582630': 0.3985304190796438, '2971786675': 0.3985304190796438, '1195925300904783874': 0.3985304190796438, '1001364202135552000': 0.3985304190796438, '1930273044': 0.3985304190796438, '1218775875417755648': 0.3985304190796438, '1556076211': 0.3985304190796438, '3799724953': 0.3985304190796438, '1249774697434083332': 0.3985304190796438, '909777938333163520': 0.3985304190796438, '2997980402': 0.3985304190796438, '1065570487219060737': 0.3985304190796438, '1130282947951489024': 0.3985304190796438, '1423152541605318659': 0.3985304190796438, '922762519608827904': 0.3985304190796438, '1110230983595319296': 0.3985304190796438, '969874080': 0.3985304190796438, '1100088313883443203': 0.3985304190796438, '1444195910351613956': 0.3985304190796438, '1093183520544043009': 0.3985304190796438, '1194698046094761984': 0.3985304190796438, '1135048602433142784': 0.3985304190796438, '1214254712943284225': 0.3985304190796438, '779320466880077825': 0.3985304190796438, '1195909106248216577': 0.3985304190796438, '922414223879053312': 0.3985304190796438, '2843955478': 0.3985304190796438, '1093024846299127808': 0.3985304190796438, '947132815983833088': 0.3985304190796438, '361546225': 0.3985304190796438, '1033992455232749570': 0.3985304190796438, '2552962878': 0.3985304190796438, '983982521514897413': 0.3985304190796438, '2337828977': 0.3985304190796438, '100176738': 0.3985304190796438, '3264740856': 0.3985304190796438, '1152322252697817088': 0.3985304190796438, '721710751849803776': 0.3985304190796438, '36367097': 0.3985304190796438, '1584491821': 0.3985304190796438, '1867376347': 0.3985304190796438, '1193156402170064896': 0.3985304190796438, '1142900410081898496': 0.3985304190796438, '751757663889874945': 0.3985304190796438, '1134835781128708098': 0.3985304190796438, '1205565476757106689': 0.3985304190796438, '821161091375972352': 0.3985304190796438, '354777690': 0.3985304190796438, '815449844': 0.3985304190796438, '1266049035640565761': 0.3985304190796438, '1393585343396515846': 0.3985304190796438, '3221665748': 0.3985304190796438, '256506416': 0.3985304190796438, '1080148340489150464': 0.3985304190796438, '791891815607697408': 0.3985304190796438, '751568942': 0.3985304190796438, '274905437': 0.3985304190796438, '1100777971646906368': 0.3985304190796438, '1297902323834839040': 0.3985304190796438, '1418587000349741057': 0.3985304190796438, '1268081353645588483': 0.3985304190796438, '960458074933813248': 0.3985304190796438, '585347033': 0.3985304190796438, '1432089471646851078': 0.3985304190796438, '1364192357218807819': 0.3985304190796438, '803164752': 0.3985304190796438, '17843247': 0.3985304190796438, '3097146398': 0.3985304190796438, '1433725358': 0.3985304190796438, '242873592': 0.3985304190796438} \n",
            " Betweenness:  {'160836619': 0.0, '1287027988962275328': 0.0, '245474233': 0.00019801980198019803, '1097144737109340161': 0.0, '238889026': 0.0, '1289836784285896705': 0.0, '141150560': 0.0, '16579578': 0.0, '1161175273867366401': 0.0, '1344540212702007297': 0.00019801980198019803, '2321958656': 0.0, '1423159146325499905': 0.0, '1579413182': 0.0, '1448657427184828426': 0.0, '1397573779241402370': 0.00019801980198019803, '1406527272798941185': 0.0, '1318843637761937410': 0.0, '1347232843919880192': 0.0, '2207822833': 0.0, '56343974': 0.0, '506556937': 0.0, '971099892662726656': 0.6257425742574257, '945525097867235328': 0.0, '1036137712640815104': 0.0, '2267513971': 0.0, '1443473916102524930': 0.0, '1448645431878045702': 0.0, '1384938867128606722': 0.0, '1112374922423291904': 0.0, '4568287993': 0.0, '760389340891578372': 0.0, '1107208078489845760': 0.0, '2949582630': 0.0, '2971786675': 0.0, '1195925300904783874': 0.0, '1001364202135552000': 0.0, '1930273044': 0.0, '1218775875417755648': 0.0, '1556076211': 0.0, '3799724953': 0.0, '1249774697434083332': 0.0, '909777938333163520': 0.0, '2997980402': 0.0, '1065570487219060737': 0.0, '1130282947951489024': 0.0, '1423152541605318659': 0.0, '922762519608827904': 0.0, '1110230983595319296': 0.0, '969874080': 0.0, '1100088313883443203': 0.0, '1444195910351613956': 0.0, '1093183520544043009': 0.0, '1194698046094761984': 0.0, '1135048602433142784': 0.0, '1214254712943284225': 0.0, '779320466880077825': 0.0, '1195909106248216577': 0.0, '922414223879053312': 0.0, '2843955478': 0.0, '1093024846299127808': 0.0, '947132815983833088': 0.0, '361546225': 0.0, '1033992455232749570': 0.0, '2552962878': 0.0, '983982521514897413': 0.0, '2337828977': 0.0, '100176738': 0.0, '3264740856': 0.0, '1152322252697817088': 0.0, '721710751849803776': 0.0, '36367097': 0.0, '1584491821': 0.0, '1867376347': 0.0, '1193156402170064896': 0.0, '1142900410081898496': 0.0, '751757663889874945': 0.0, '1134835781128708098': 0.0, '1205565476757106689': 0.0, '821161091375972352': 0.0, '354777690': 0.0, '815449844': 0.0, '1266049035640565761': 0.0, '1393585343396515846': 0.0, '3221665748': 0.0, '256506416': 0.0, '1080148340489150464': 0.0, '791891815607697408': 0.0, '751568942': 0.0, '274905437': 0.0, '1100777971646906368': 0.0, '1297902323834839040': 0.0, '1418587000349741057': 0.0, '1268081353645588483': 0.0, '960458074933813248': 0.0, '585347033': 0.0, '1432089471646851078': 0.0, '1364192357218807819': 0.0, '803164752': 0.0, '17843247': 0.0, '3097146398': 0.0, '1433725358': 0.0, '242873592': 0.0} \n",
            " Eigen_centrality:  {'160836619': 1.7225159846750509e-38, '1287027988962275328': 1.7225159846750509e-38, '245474233': 4.471265958103417e-34, '1097144737109340161': 3.1616624794634915e-34, '238889026': 3.1616624794634915e-34, '1289836784285896705': 1.7225159846750509e-38, '141150560': 1.7225159846750509e-38, '16579578': 1.7225159846750509e-38, '1161175273867366401': 1.7225159846750509e-38, '1344540212702007297': 4.471265958103417e-34, '2321958656': 3.1616624794634915e-34, '1423159146325499905': 3.1616624794634915e-34, '1579413182': 1.7225159846750509e-38, '1448657427184828426': 1.7225159846750509e-38, '1397573779241402370': 4.471265958103417e-34, '1406527272798941185': 3.1616624794634915e-34, '1318843637761937410': 3.1616624794634915e-34, '1347232843919880192': 1.7225159846750509e-38, '2207822833': 1.7225159846750509e-38, '56343974': 1.7225159846750509e-38, '506556937': 1.7225159846750509e-38, '971099892662726656': 0.7071106135239729, '945525097867235328': 0.07905651303353743, '1036137712640815104': 0.07905651303353743, '2267513971': 0.07905651303353743, '1443473916102524930': 0.07905651303353743, '1448645431878045702': 0.07905651303353743, '1384938867128606722': 0.07905651303353743, '1112374922423291904': 0.07905651303353743, '4568287993': 0.07905651303353743, '760389340891578372': 0.07905651303353743, '1107208078489845760': 0.07905651303353743, '2949582630': 0.07905651303353743, '2971786675': 0.07905651303353743, '1195925300904783874': 0.07905651303353743, '1001364202135552000': 0.07905651303353743, '1930273044': 0.07905651303353743, '1218775875417755648': 0.07905651303353743, '1556076211': 0.07905651303353743, '3799724953': 0.07905651303353743, '1249774697434083332': 0.07905651303353743, '909777938333163520': 0.07905651303353743, '2997980402': 0.07905651303353743, '1065570487219060737': 0.07905651303353743, '1130282947951489024': 0.07905651303353743, '1423152541605318659': 0.07905651303353743, '922762519608827904': 0.07905651303353743, '1110230983595319296': 0.07905651303353743, '969874080': 0.07905651303353743, '1100088313883443203': 0.07905651303353743, '1444195910351613956': 0.07905651303353743, '1093183520544043009': 0.07905651303353743, '1194698046094761984': 0.07905651303353743, '1135048602433142784': 0.07905651303353743, '1214254712943284225': 0.07905651303353743, '779320466880077825': 0.07905651303353743, '1195909106248216577': 0.07905651303353743, '922414223879053312': 0.07905651303353743, '2843955478': 0.07905651303353743, '1093024846299127808': 0.07905651303353743, '947132815983833088': 0.07905651303353743, '361546225': 0.07905651303353743, '1033992455232749570': 0.07905651303353743, '2552962878': 0.07905651303353743, '983982521514897413': 0.07905651303353743, '2337828977': 0.07905651303353743, '100176738': 0.07905651303353743, '3264740856': 0.07905651303353743, '1152322252697817088': 0.07905651303353743, '721710751849803776': 0.07905651303353743, '36367097': 0.07905651303353743, '1584491821': 0.07905651303353743, '1867376347': 0.07905651303353743, '1193156402170064896': 0.07905651303353743, '1142900410081898496': 0.07905651303353743, '751757663889874945': 0.07905651303353743, '1134835781128708098': 0.07905651303353743, '1205565476757106689': 0.07905651303353743, '821161091375972352': 0.07905651303353743, '354777690': 0.07905651303353743, '815449844': 0.07905651303353743, '1266049035640565761': 0.07905651303353743, '1393585343396515846': 0.07905651303353743, '3221665748': 0.07905651303353743, '256506416': 0.07905651303353743, '1080148340489150464': 0.07905651303353743, '791891815607697408': 0.07905651303353743, '751568942': 0.07905651303353743, '274905437': 0.07905651303353743, '1100777971646906368': 0.07905651303353743, '1297902323834839040': 0.07905651303353743, '1418587000349741057': 0.07905651303353743, '1268081353645588483': 0.07905651303353743, '960458074933813248': 0.07905651303353743, '585347033': 0.07905651303353743, '1432089471646851078': 0.07905651303353743, '1364192357218807819': 0.07905651303353743, '803164752': 0.07905651303353743, '17843247': 0.07905651303353743, '3097146398': 0.07905651303353743, '1433725358': 0.07905651303353743, '242873592': 0.07905651303353743}\n"
          ]
        }
      ]
    },
    {
      "cell_type": "code",
      "metadata": {
        "colab": {
          "base_uri": "https://localhost:8080/"
        },
        "id": "u20unB1rY3DX",
        "outputId": "894e4b17-7287-458a-edab-028d3709248c"
      },
      "source": [
        "print( '\\n Unique values for Betweenness: ', set(closeness.values()),\n",
        "      '\\n Unique values for Betweenness: ', set(betweenness.values()),\n",
        "      '\\n Unique values for Eigenvector Centrality: ', set(eigen_centrality.values()))"
      ],
      "execution_count": 70,
      "outputs": [
        {
          "output_type": "stream",
          "name": "stdout",
          "text": [
            "\n",
            " Unique values for Betweenness:  {0.7920792079207921, 0.3985304190796438, 0.009900990099009901, 0.013201320132013201, 0.019801980198019802} \n",
            " Unique values for Betweenness:  {0.0, 0.6257425742574257, 0.00019801980198019803} \n",
            " Unique values for Eigenvector Centrality:  {1.7225159846750509e-38, 0.7071106135239729, 0.07905651303353743, 4.471265958103417e-34, 3.1616624794634915e-34}\n"
          ]
        }
      ]
    },
    {
      "cell_type": "markdown",
      "metadata": {
        "id": "NaxnY4m-Ycyk"
      },
      "source": [
        "## Visualization of Structural Properties"
      ]
    },
    {
      "cell_type": "code",
      "metadata": {
        "colab": {
          "base_uri": "https://localhost:8080/"
        },
        "id": "0heAQVuGYsaQ",
        "outputId": "23f9c02e-57af-4b9f-b576-1f87c7cfc560"
      },
      "source": [
        "print('--- Degree distribution information ---')"
      ],
      "execution_count": 85,
      "outputs": [
        {
          "output_type": "stream",
          "name": "stdout",
          "text": [
            "--- Degree distribution information ---\n"
          ]
        }
      ]
    },
    {
      "cell_type": "code",
      "metadata": {
        "colab": {
          "base_uri": "https://localhost:8080/",
          "height": 265
        },
        "id": "0un4A3gBhpUs",
        "outputId": "5ef40df0-2d3a-4821-9a82-ece46879aef9"
      },
      "source": [
        "def plot_degree_dist(G):\n",
        "    # degrees = [G.degree(n) for n in G.nodes()]\n",
        "    degree_freq = nx.degree_histogram(g)\n",
        "    degrees = range(len(degree_freq))\n",
        "    plt.hist(degree_freq)\n",
        "    plt.show()\n",
        "\n",
        "plot_degree_dist(g)"
      ],
      "execution_count": 98,
      "outputs": [
        {
          "output_type": "display_data",
          "data": {
            "image/png": "[encoded data removed]",
            "text/plain": [
              "<Figure size 432x288 with 1 Axes>"
            ]
          },
          "metadata": {
            "needs_background": "light"
          }
        }
      ]
    },
    {
      "cell_type": "code",
      "metadata": {
        "colab": {
          "base_uri": "https://localhost:8080/",
          "height": 729
        },
        "id": "FgHOaQsEaJaM",
        "outputId": "fa409f9b-96db-4a82-c36b-3a2bf31fa262"
      },
      "source": [
        "# Plot actual graph of network\n",
        "\n",
        "plt.figure(num=None, figsize=(15, 10), dpi=None)\n",
        "layout = nx.nx_pydot.graphviz_layout(g)\n",
        "\n",
        "color_map = ['green']\n",
        "node_deg = nx.degree(g)\n",
        "nx.draw_networkx(\n",
        "    g,\n",
        "    node_size= [int(deg[1])*15 for deg in node_deg],\n",
        "    arrowsize= 5,\n",
        "    linewidths=0.8,\n",
        "    pos=layout,\n",
        "    edge_color='yellow',\n",
        "    edgecolors='blue',\n",
        "    node_color=color_map,\n",
        "    with_labels=False\n",
        "    #font_size=35\n",
        "    )\n",
        "\n",
        "plt.tight_layout()"
      ],
      "execution_count": 105,
      "outputs": [
        {
          "output_type": "display_data",
          "data": {
            "image/png": "[encoded data removed]",
            "text/plain": [
              "<Figure size 1080x720 with 1 Axes>"
            ]
          },
          "metadata": {}
        }
      ]
    },
    {
      "cell_type": "code",
      "metadata": {
        "colab": {
          "base_uri": "https://localhost:8080/",
          "height": 585
        },
        "id": "G4LisruQmA-B",
        "outputId": "8a0a99f9-adac-43d5-de44-e4109c82cd97"
      },
      "source": [
        "# https://networkx.org/documentation/stable/auto_examples/drawing/plot_degree.html\n",
        "\n",
        "# Plot degree distribution plt\n",
        "\n",
        "fig = plt.figure(\"Degree of a random graph\", figsize=(8, 8))\n",
        "# Create a gridspec for adding subplots of different sizes\n",
        "axgrid = fig.add_gridspec(5, 4)\n",
        "ax0 = fig.add_subplot(axgrid[0:3, :])\n",
        "Gcc = G.subgraph(sorted(nx.connected_components(g), key=len, reverse=True)[0])\n",
        "pos = nx.spring_layout(Gcc, seed=10396953)\n",
        "nx.draw_networkx_nodes(Gcc, pos, ax=ax0, node_size=20)\n",
        "nx.draw_networkx_edges(Gcc, pos, ax=ax0, alpha=0.4)\n",
        "ax0.set_title(\"Connected components of G\")\n",
        "ax0.set_axis_off()\n",
        "\n",
        "ax1 = fig.add_subplot(axgrid[3:, :2])\n",
        "ax1.plot(degree_sequence, \"b-\", marker=\"o\")\n",
        "ax1.set_title(\"Degree Rank Plot\")\n",
        "ax1.set_ylabel(\"Degree\")\n",
        "ax1.set_xlabel(\"Rank\")\n",
        "\n",
        "ax2 = fig.add_subplot(axgrid[3:, 2:])\n",
        "ax2.bar(*np.unique(degree_sequence, return_counts=True))\n",
        "ax2.set_title(\"Degree histogram\")\n",
        "ax2.set_xlabel(\"Degree\")\n",
        "ax2.set_ylabel(\"# of Nodes\")\n",
        "\n",
        "fig.tight_layout()\n",
        "plt.show()"
      ],
      "execution_count": 107,
      "outputs": [
        {
          "output_type": "display_data",
          "data": {
            "image/png": "[encoded data removed]",
            "text/plain": [
              "<Figure size 576x576 with 3 Axes>"
            ]
          },
          "metadata": {
            "needs_background": "light"
          }
        }
      ]
    },
    {
      "cell_type": "markdown",
      "metadata": {
        "id": "86RT_sbOYc6w"
      },
      "source": [
        "# Community Detection \n",
        "\n",
        "Following are 3 approaches to form communities. Motive to get this was only to see how many nodes [amongst the very limited data] were being covering the network. "
      ]
    },
    {
      "cell_type": "markdown",
      "metadata": {
        "id": "xGCbGRBVou9k"
      },
      "source": [
        "## Girvan  Newman"
      ]
    },
    {
      "cell_type": "code",
      "metadata": {
        "colab": {
          "base_uri": "https://localhost:8080/"
        },
        "id": "0iGpzhfgo_07",
        "outputId": "b43167a5-c9ca-4056-a72c-50e6c6438978"
      },
      "source": [
        "communities_generator = community.girvan_newman(g)\n",
        "top_level_communities = next(communities_generator)\n",
        "top_level_communities = sorted(map(sorted, top_level_communities))\n",
        "\n",
        "# Find the number of communities\n",
        "communities = top_level_communities\n",
        "print(f\" girvan newman {len(communities)} communities.\")\n",
        "\n",
        "# communities = top_level_communities\n",
        "# communities = next_level_communities # or "
      ],
      "execution_count": 125,
      "outputs": [
        {
          "output_type": "stream",
          "name": "stdout",
          "text": [
            " girvan newman 11 communities.\n"
          ]
        }
      ]
    },
    {
      "cell_type": "markdown",
      "metadata": {
        "id": "h027f_1movD5"
      },
      "source": [
        "## Label Propagation "
      ]
    },
    {
      "cell_type": "code",
      "metadata": {
        "colab": {
          "base_uri": "https://localhost:8080/"
        },
        "id": "BECpalkbpAN0",
        "outputId": "638086c4-85a7-43e7-a93d-32af8cede8e1"
      },
      "source": [
        "lpa_comm = nx.algorithms.community.label_propagation.label_propagation_communities(g)\n",
        "# Find the number of communities\n",
        "communities = lpa_comm\n",
        "print(f\" lpa {len(communities)} communities.\")"
      ],
      "execution_count": 119,
      "outputs": [
        {
          "output_type": "stream",
          "name": "stdout",
          "text": [
            " lpa 10 communities.\n"
          ]
        }
      ]
    },
    {
      "cell_type": "markdown",
      "metadata": {
        "id": "xVfqAvlbovIr"
      },
      "source": [
        "## Greedy Approach"
      ]
    },
    {
      "cell_type": "code",
      "metadata": {
        "colab": {
          "base_uri": "https://localhost:8080/"
        },
        "id": "O37XT7BcpAn0",
        "outputId": "eddef843-6880-4f10-f51c-00aac91332c6"
      },
      "source": [
        "greedy_comm = community.modularity_max.greedy_modularity_communities(g, weight=None, resolution=1)\n",
        "# Find the number of communities\n",
        "communities = greedy_comm\n",
        "print(f\"greedy {len(communities)} communities.\")"
      ],
      "execution_count": 120,
      "outputs": [
        {
          "output_type": "stream",
          "name": "stdout",
          "text": [
            "greedy 10 communities.\n"
          ]
        }
      ]
    },
    {
      "cell_type": "markdown",
      "metadata": {
        "id": "F-z7mhPBuLJu"
      },
      "source": [
        "## Visualizing Communities"
      ]
    },
    {
      "cell_type": "code",
      "metadata": {
        "id": "2vb9CFkyuJv6"
      },
      "source": [
        "pos = nx.spring_layout(g)\n",
        "colors = [\"violet\", \"black\", \"orange\", \"cyan\", \"blue\", \"green\", \"yellow\", \"indigo\", \"pink\", \"red\", \"gray\"]"
      ],
      "execution_count": 123,
      "outputs": []
    },
    {
      "cell_type": "code",
      "metadata": {
        "id": "v7bc41_pYtL3"
      },
      "source": [
        "def draw_communities(communities) :\n",
        "  for i in range(len(communities)):\n",
        "    graph = communities[i]\n",
        "    node_list = [node for node in graph]\n",
        "    nx.draw(g, pos, nodelist=node_list, node_color=colors[i%10], node_size=50, alpha=0.8)"
      ],
      "execution_count": 133,
      "outputs": []
    },
    {
      "cell_type": "code",
      "metadata": {
        "colab": {
          "base_uri": "https://localhost:8080/",
          "height": 319
        },
        "id": "F4XNWL9St3g5",
        "outputId": "4d1654ae-6b2b-47f6-950d-89c6a984bca0"
      },
      "source": [
        "draw_communities(greedy_comm)"
      ],
      "execution_count": 136,
      "outputs": [
        {
          "output_type": "display_data",
          "data": {
            "image/png": "[encoded data removed]",
            "text/plain": [
              "<Figure size 432x288 with 1 Axes>"
            ]
          },
          "metadata": {}
        }
      ]
    },
    {
      "cell_type": "code",
      "metadata": {
        "colab": {
          "base_uri": "https://localhost:8080/",
          "height": 319
        },
        "id": "QLypqCJsvSUq",
        "outputId": "827db9c0-dd05-4b81-d4c0-b3e00be62183"
      },
      "source": [
        "draw_communities(top_level_communities)"
      ],
      "execution_count": 135,
      "outputs": [
        {
          "output_type": "display_data",
          "data": {
            "image/png": "[encoded data removed]",
            "text/plain": [
              "<Figure size 432x288 with 1 Axes>"
            ]
          },
          "metadata": {}
        }
      ]
    },
    {
      "cell_type": "code",
      "metadata": {
        "id": "Ll3k6l9czwxT"
      },
      "source": [
        ""
      ],
      "execution_count": null,
      "outputs": []
    }
  ]
}